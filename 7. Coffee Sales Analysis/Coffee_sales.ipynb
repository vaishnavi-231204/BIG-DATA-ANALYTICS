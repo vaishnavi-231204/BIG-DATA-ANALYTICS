{
 "cells": [
  {
   "cell_type": "code",
   "execution_count": 31,
   "id": "6ed41c5e-451e-4035-b982-bad2b0f29f6e",
   "metadata": {},
   "outputs": [
    {
     "data": {
      "text/html": [
       "\n",
       "        <div>\n",
       "            <p><b>SparkContext</b></p>\n",
       "\n",
       "            <p><a href=\"http://vaishnavi:4040\">Spark UI</a></p>\n",
       "\n",
       "            <dl>\n",
       "              <dt>Version</dt>\n",
       "                <dd><code>v4.0.0</code></dd>\n",
       "              <dt>Master</dt>\n",
       "                <dd><code>local[*]</code></dd>\n",
       "              <dt>AppName</dt>\n",
       "                <dd><code>PySparkShell</code></dd>\n",
       "            </dl>\n",
       "        </div>\n",
       "        "
      ],
      "text/plain": [
       "<SparkContext master=local[*] appName=PySparkShell>"
      ]
     },
     "execution_count": 31,
     "metadata": {},
     "output_type": "execute_result"
    }
   ],
   "source": [
    "sc"
   ]
  },
  {
   "cell_type": "code",
   "execution_count": 32,
   "id": "012ba193-9c66-4525-a692-6bdcaf16d8d5",
   "metadata": {},
   "outputs": [],
   "source": [
    "from pyspark.sql import SparkSession\n",
    "from pyspark.sql.functions import col, avg, min, max, sum\n",
    "from pyspark.sql import functions as F\n",
    "from pyspark.sql.types import IntegerType, DoubleType \n",
    "from pyspark.ml.feature import VectorAssembler\n",
    "from pyspark.ml.regression import LinearRegression\n",
    "\n"
   ]
  },
  {
   "cell_type": "code",
   "execution_count": 33,
   "id": "5b3b43f3-ce7e-4bad-ab17-4a485100f279",
   "metadata": {},
   "outputs": [],
   "source": [
    "spark = SparkSession.builder \\\n",
    "    .appName(\"CoffeeSalesAnalysis\") \\\n",
    "    .config(\"spark.hadoop.io.nativeio.enabled\", \"false\") \\\n",
    "    .getOrCreate()"
   ]
  },
  {
   "cell_type": "code",
   "execution_count": 34,
   "id": "caf0847d-707e-44d0-8e20-6fc36ba3b03e",
   "metadata": {},
   "outputs": [
    {
     "name": "stdout",
     "output_type": "stream",
     "text": [
      "+-----------+---------+-----+-------------+-----------+-------+----------+-----------+---------+----------+--------------------+\n",
      "|hour_of_day|cash_type|money|  coffee_name|Time_of_Day|Weekday|Month_name|Weekdaysort|Monthsort|      Date|                Time|\n",
      "+-----------+---------+-----+-------------+-----------+-------+----------+-----------+---------+----------+--------------------+\n",
      "|         10|     card| 38.7|        Latte|    Morning|    Fri|       Mar|          5|        3|2024-03-01|2025-10-07 10:15:...|\n",
      "|         12|     card| 38.7|Hot Chocolate|  Afternoon|    Fri|       Mar|          5|        3|2024-03-01|2025-10-07 12:19:...|\n",
      "|         12|     card| 38.7|Hot Chocolate|  Afternoon|    Fri|       Mar|          5|        3|2024-03-01|2025-10-07 12:20:...|\n",
      "|         13|     card| 28.9|    Americano|  Afternoon|    Fri|       Mar|          5|        3|2024-03-01|2025-10-07 13:46:...|\n",
      "|         13|     card| 38.7|        Latte|  Afternoon|    Fri|       Mar|          5|        3|2024-03-01|2025-10-07 13:48:...|\n",
      "+-----------+---------+-----+-------------+-----------+-------+----------+-----------+---------+----------+--------------------+\n",
      "only showing top 5 rows\n",
      "root\n",
      " |-- hour_of_day: integer (nullable = true)\n",
      " |-- cash_type: string (nullable = true)\n",
      " |-- money: double (nullable = true)\n",
      " |-- coffee_name: string (nullable = true)\n",
      " |-- Time_of_Day: string (nullable = true)\n",
      " |-- Weekday: string (nullable = true)\n",
      " |-- Month_name: string (nullable = true)\n",
      " |-- Weekdaysort: integer (nullable = true)\n",
      " |-- Monthsort: integer (nullable = true)\n",
      " |-- Date: date (nullable = true)\n",
      " |-- Time: timestamp (nullable = true)\n",
      "\n"
     ]
    }
   ],
   "source": [
    "file_path = \"Coffe_sales.csv\" \n",
    "\n",
    "df = spark.read.option(\"header\", True).option(\"inferSchema\", True).csv(file_path)\n",
    "\n",
    "\n",
    "df.show(5)\n",
    "df.printSchema()"
   ]
  },
  {
   "cell_type": "code",
   "execution_count": 35,
   "id": "13accf59-fbd1-40d1-a4a6-3b0f7fd65bfb",
   "metadata": {},
   "outputs": [
    {
     "name": "stdout",
     "output_type": "stream",
     "text": [
      "Total number of sales transactions: 3547\n"
     ]
    }
   ],
   "source": [
    "print(\"Total number of sales transactions:\", df.count())"
   ]
  },
  {
   "cell_type": "code",
   "execution_count": 36,
   "id": "b332113a-d8a5-4100-b102-6b9998c84d10",
   "metadata": {},
   "outputs": [
    {
     "name": "stdout",
     "output_type": "stream",
     "text": [
      "Total number of transactions: 3547\n"
     ]
    }
   ],
   "source": [
    "total_tx = df.count()\n",
    "print(\"Total number of transactions:\", total_tx)\n"
   ]
  },
  {
   "cell_type": "code",
   "execution_count": 37,
   "id": "69f9cf91-9183-44f4-bdd6-b3e80e1393bb",
   "metadata": {},
   "outputs": [
    {
     "name": "stdout",
     "output_type": "stream",
     "text": [
      " Distinct coffee types\n",
      "+-------------------+\n",
      "|coffee_name        |\n",
      "+-------------------+\n",
      "|Americano          |\n",
      "|Americano with Milk|\n",
      "|Cappuccino         |\n",
      "|Cocoa              |\n",
      "|Cortado            |\n",
      "|Espresso           |\n",
      "|Hot Chocolate      |\n",
      "|Latte              |\n",
      "+-------------------+\n",
      "\n"
     ]
    }
   ],
   "source": [
    "print(\" Distinct coffee types\")\n",
    "df.select(\"coffee_name\").distinct().orderBy(\"coffee_name\").show(truncate=False)\n",
    "\n"
   ]
  },
  {
   "cell_type": "code",
   "execution_count": 38,
   "id": "649224f5-9945-42e8-adcc-0843811cab00",
   "metadata": {},
   "outputs": [
    {
     "name": "stdout",
     "output_type": "stream",
     "text": [
      " Distinct payment methods (cash_type)\n",
      "+---------+\n",
      "|cash_type|\n",
      "+---------+\n",
      "|     card|\n",
      "+---------+\n",
      "\n"
     ]
    }
   ],
   "source": [
    "print(\" Distinct payment methods (cash_type)\")\n",
    "\n",
    "df.select(\"cash_type\").distinct().show()\n"
   ]
  },
  {
   "cell_type": "code",
   "execution_count": 39,
   "id": "1e2769e2-a309-4464-922d-7d965d658369",
   "metadata": {},
   "outputs": [
    {
     "name": "stdout",
     "output_type": "stream",
     "text": [
      "Basic statistics for 'money' (transaction amount)\n",
      "+-------+------------------+\n",
      "|summary|             money|\n",
      "+-------+------------------+\n",
      "|  count|              3547|\n",
      "|   mean| 31.64521567521797|\n",
      "| stddev|4.8777537035910035|\n",
      "|    min|             18.12|\n",
      "|    max|              38.7|\n",
      "+-------+------------------+\n",
      "\n",
      "\n",
      "Min and Max transaction amount:\n",
      "+-----+----+\n",
      "|  Min| Max|\n",
      "+-----+----+\n",
      "|18.12|38.7|\n",
      "+-----+----+\n",
      "\n"
     ]
    }
   ],
   "source": [
    "print(\"Basic statistics for 'money' (transaction amount)\")\n",
    "\n",
    "df.select(\"money\").describe().show()\n",
    "\n",
    "print(\"\\nMin and Max transaction amount:\")\n",
    "df.agg(min(\"money\").alias(\"Min\"), max(\"money\").alias(\"Max\")).show()"
   ]
  },
  {
   "cell_type": "code",
   "execution_count": 40,
   "id": "16eb473f-69b9-407c-8691-c0cf5a9be92f",
   "metadata": {},
   "outputs": [
    {
     "name": "stdout",
     "output_type": "stream",
     "text": [
      "Total Revenue: 112245.58\n",
      "Average Spend per Transaction: 31.65\n"
     ]
    }
   ],
   "source": [
    "total_revenue = df.agg(F.sum(\"money\").alias(\"Total_Revenue\")).collect()[0][\"Total_Revenue\"]\n",
    "avg_spend = df.agg(F.avg(\"money\").alias(\"Avg_Spend\")).collect()[0][\"Avg_Spend\"]\n",
    "\n",
    "print(f\"Total Revenue: {total_revenue:.2f}\")\n",
    "print(f\"Average Spend per Transaction: {avg_spend:.2f}\")\n"
   ]
  },
  {
   "cell_type": "code",
   "execution_count": 41,
   "id": "834a899a-4220-4274-ae95-e2e92c6520cb",
   "metadata": {},
   "outputs": [
    {
     "name": "stdout",
     "output_type": "stream",
     "text": [
      "# ------------------------------\n",
      "# 6. Total sales by coffee type (descending)\n",
      "# ------------------------------\n",
      "+-------------------+------------------+\n",
      "|coffee_name        |Total_Sales       |\n",
      "+-------------------+------------------+\n",
      "|Latte              |26875.2999999995  |\n",
      "|Americano with Milk|24751.120000000228|\n",
      "|Cappuccino         |17439.139999999974|\n",
      "|Americano          |14650.259999999824|\n",
      "|Hot Chocolate      |9933.460000000046 |\n",
      "|Cocoa              |8521.160000000038 |\n",
      "|Cortado            |7384.86000000001  |\n",
      "|Espresso           |2690.279999999994 |\n",
      "+-------------------+------------------+\n",
      "\n",
      "\n",
      "# ------------------------------\n",
      "# 7. Top 10 most-ordered coffee types (by count)\n",
      "# ------------------------------\n",
      "+-------------------+------+\n",
      "|coffee_name        |Orders|\n",
      "+-------------------+------+\n",
      "|Americano with Milk|809   |\n",
      "|Latte              |757   |\n",
      "|Americano          |564   |\n",
      "|Cappuccino         |486   |\n",
      "|Cortado            |287   |\n",
      "|Hot Chocolate      |276   |\n",
      "|Cocoa              |239   |\n",
      "|Espresso           |129   |\n",
      "+-------------------+------+\n",
      "\n"
     ]
    }
   ],
   "source": [
    "# ------------------------------\n",
    "# Sales by Coffee Type & Top sold\n",
    "# ------------------------------\n",
    "print(\"# ------------------------------\")\n",
    "print(\"# 6. Total sales by coffee type (descending)\")\n",
    "print(\"# ------------------------------\")\n",
    "df.groupBy(\"coffee_name\").agg(F.sum(\"money\").alias(\"Total_Sales\")) \\\n",
    "  .orderBy(F.desc(\"Total_Sales\")).show(20, truncate=False)\n",
    "\n",
    "print(\"\\n# ------------------------------\")\n",
    "print(\"# 7. Top 10 most-ordered coffee types (by count)\")\n",
    "print(\"# ------------------------------\")\n",
    "df.groupBy(\"coffee_name\").agg(F.count(\"*\").alias(\"Orders\")) \\\n",
    "  .orderBy(F.desc(\"Orders\")).show(10, truncate=False)\n"
   ]
  },
  {
   "cell_type": "code",
   "execution_count": 42,
   "id": "82586ad9-1de9-45b7-8dae-1aae750e4c1d",
   "metadata": {},
   "outputs": [
    {
     "name": "stdout",
     "output_type": "stream",
     "text": [
      "# ------------------------------\n",
      "# 8. Payment method usage and avg spend\n",
      "# ------------------------------\n",
      "+---------+------------+-----------------+------------------+\n",
      "|cash_type|Transactions|Avg_Spend        |Total_Revenue     |\n",
      "+---------+------------+-----------------+------------------+\n",
      "|card     |3547        |31.64521567521797|112245.57999999814|\n",
      "+---------+------------+-----------------+------------------+\n",
      "\n"
     ]
    }
   ],
   "source": [
    "# ------------------------------\n",
    "#  Payment method analysis\n",
    "# ------------------------------\n",
    "print(\"# ------------------------------\")\n",
    "print(\"# 8. Payment method usage and avg spend\")\n",
    "print(\"# ------------------------------\")\n",
    "df.groupBy(\"cash_type\").agg(\n",
    "    F.count(\"*\").alias(\"Transactions\"),\n",
    "    avg(\"money\").alias(\"Avg_Spend\"),\n",
    "    F.sum(\"money\").alias(\"Total_Revenue\")\n",
    ").orderBy(F.desc(\"Transactions\")).show(truncate=False)\n"
   ]
  },
  {
   "cell_type": "code",
   "execution_count": 43,
   "id": "442a1ae2-4ddf-4ee0-9d0f-94ae2f29d845",
   "metadata": {},
   "outputs": [
    {
     "name": "stdout",
     "output_type": "stream",
     "text": [
      "# ------------------------------\n",
      "# 9. Hourly sales (total) ordered by hour\n",
      "# ------------------------------\n",
      "+-----------+------------------+\n",
      "|hour_of_day|      Hourly_Sales|\n",
      "+-----------+------------------+\n",
      "|          6|             149.4|\n",
      "|          7| 2846.020000000003|\n",
      "|          8| 7017.880000000007|\n",
      "|          9| 7264.280000000005|\n",
      "|         10|10198.519999999991|\n",
      "|         11| 8453.100000000008|\n",
      "|         12| 7419.620000000012|\n",
      "|         13| 7028.760000000013|\n",
      "|         14|7173.8000000000175|\n",
      "|         15|7476.0200000000195|\n",
      "|         16| 9031.840000000024|\n",
      "|         17| 7659.760000000013|\n",
      "|         18| 7162.600000000018|\n",
      "|         19|7751.9600000000155|\n",
      "|         20|5578.9200000000155|\n",
      "|         21| 6397.940000000017|\n",
      "|         22| 3635.160000000008|\n",
      "+-----------+------------------+\n",
      "\n",
      "\n",
      "# ------------------------------\n",
      "# 10. Top 10 busiest hours by sales\n",
      "# ------------------------------\n",
      "+-----------+------------------+\n",
      "|hour_of_day|      Hourly_Sales|\n",
      "+-----------+------------------+\n",
      "|         10|10198.519999999991|\n",
      "|         16| 9031.840000000024|\n",
      "|         11| 8453.100000000008|\n",
      "|         19|7751.9600000000155|\n",
      "|         17| 7659.760000000013|\n",
      "|         15|7476.0200000000195|\n",
      "|         12| 7419.620000000012|\n",
      "|          9| 7264.280000000005|\n",
      "|         14|7173.8000000000175|\n",
      "|         18| 7162.600000000018|\n",
      "+-----------+------------------+\n",
      "only showing top 10 rows\n",
      "\n",
      "# ------------------------------\n",
      "# 11. Sales by Weekday (ordered by Weekdaysort)\n",
      "# ------------------------------\n",
      "+-------+-----------+------------------+\n",
      "|Weekday|Weekdaysort|       Total_Sales|\n",
      "+-------+-----------+------------------+\n",
      "|    Mon|          1|17363.099999999977|\n",
      "|    Tue|          2|18168.379999999957|\n",
      "|    Wed|          3|15750.459999999994|\n",
      "|    Thu|          4|16091.400000000001|\n",
      "|    Fri|          5| 16802.65999999997|\n",
      "|    Sat|          6|14733.519999999995|\n",
      "|    Sun|          7| 13336.06000000002|\n",
      "+-------+-----------+------------------+\n",
      "\n",
      "\n",
      "# ------------------------------\n",
      "# 12. Sales by Month (ordered by Monthsort)\n",
      "# ------------------------------\n",
      "+----------+---------+------------------+\n",
      "|Month_name|Monthsort|     Monthly_Sales|\n",
      "+----------+---------+------------------+\n",
      "|       Jan|        1| 6398.860000000012|\n",
      "|       Feb|        2|13215.479999999996|\n",
      "|       Mar|        3|15891.639999999976|\n",
      "|       Apr|        4| 5719.560000000002|\n",
      "|       May|        5| 8164.420000000012|\n",
      "|       Jun|        6| 7617.760000000006|\n",
      "|       Jul|        7| 6915.940000000006|\n",
      "|       Aug|        8| 7613.840000000015|\n",
      "|       Sep|        9| 9988.640000000007|\n",
      "|       Oct|       10| 13891.16000000004|\n",
      "|       Nov|       11| 8590.540000000023|\n",
      "|       Dec|       12| 8237.740000000018|\n",
      "+----------+---------+------------------+\n",
      "\n"
     ]
    }
   ],
   "source": [
    "# ------------------------------\n",
    "# Time-based analysis (hour, weekday, month)\n",
    "# ------------------------------\n",
    "# Ensure correct dtypes\n",
    "df = df.withColumn(\"hour_of_day\", col(\"hour_of_day\").cast(IntegerType()))\n",
    "df = df.withColumn(\"Weekdaysort\", col(\"Weekdaysort\").cast(IntegerType()))\n",
    "df = df.withColumn(\"Monthsort\", col(\"Monthsort\").cast(IntegerType()))\n",
    "df = df.withColumn(\"money\", col(\"money\").cast(DoubleType()))\n",
    "\n",
    "print(\"# ------------------------------\")\n",
    "print(\"# 9. Hourly sales (total) ordered by hour\")\n",
    "print(\"# ------------------------------\")\n",
    "df.groupBy(\"hour_of_day\").agg(F.sum(\"money\").alias(\"Hourly_Sales\")) \\\n",
    "  .orderBy(\"hour_of_day\").show(24)\n",
    "\n",
    "print(\"\\n# ------------------------------\")\n",
    "print(\"# 10. Top 10 busiest hours by sales\")\n",
    "print(\"# ------------------------------\")\n",
    "df.groupBy(\"hour_of_day\").agg(F.sum(\"money\").alias(\"Hourly_Sales\")) \\\n",
    "  .orderBy(F.desc(\"Hourly_Sales\")).show(10)\n",
    "\n",
    "print(\"\\n# ------------------------------\")\n",
    "print(\"# 11. Sales by Weekday (ordered by Weekdaysort)\")\n",
    "print(\"# ------------------------------\")\n",
    "df.groupBy(\"Weekday\", \"Weekdaysort\").agg(F.sum(\"money\").alias(\"Total_Sales\")) \\\n",
    "  .orderBy(\"Weekdaysort\").show()\n",
    "\n",
    "print(\"\\n# ------------------------------\")\n",
    "print(\"# 12. Sales by Month (ordered by Monthsort)\")\n",
    "print(\"# ------------------------------\")\n",
    "df.groupBy(\"Month_name\", \"Monthsort\").agg(F.sum(\"money\").alias(\"Monthly_Sales\")) \\\n",
    "  .orderBy(\"Monthsort\").show()\n"
   ]
  },
  {
   "cell_type": "code",
   "execution_count": 44,
   "id": "b8148c63-a248-4584-a139-a61295b2eebc",
   "metadata": {},
   "outputs": [
    {
     "name": "stdout",
     "output_type": "stream",
     "text": [
      "# ------------------------------\n",
      "# 13. Most popular coffee by Time_of_Day (count)\n",
      "# ------------------------------\n",
      "+-----------+-------------------+------+\n",
      "|Time_of_Day|coffee_name        |Orders|\n",
      "+-----------+-------------------+------+\n",
      "|Afternoon  |Latte              |270   |\n",
      "|Afternoon  |Americano with Milk|239   |\n",
      "|Afternoon  |Americano          |233   |\n",
      "|Afternoon  |Cappuccino         |164   |\n",
      "|Afternoon  |Cortado            |88    |\n",
      "|Afternoon  |Hot Chocolate      |80    |\n",
      "|Afternoon  |Cocoa              |75    |\n",
      "|Afternoon  |Espresso           |56    |\n",
      "|Morning    |Americano with Milk|331   |\n",
      "|Morning    |Americano          |219   |\n",
      "|Morning    |Latte              |215   |\n",
      "|Morning    |Cortado            |143   |\n",
      "|Morning    |Cappuccino         |122   |\n",
      "|Morning    |Cocoa              |58    |\n",
      "|Morning    |Hot Chocolate      |49    |\n",
      "|Morning    |Espresso           |44    |\n",
      "|Night      |Latte              |272   |\n",
      "|Night      |Americano with Milk|239   |\n",
      "|Night      |Cappuccino         |200   |\n",
      "|Night      |Hot Chocolate      |147   |\n",
      "|Night      |Americano          |112   |\n",
      "|Night      |Cocoa              |106   |\n",
      "|Night      |Cortado            |56    |\n",
      "|Night      |Espresso           |29    |\n",
      "+-----------+-------------------+------+\n",
      "\n",
      "\n",
      "# ------------------------------\n",
      "# 14. Peak hour for each Time_of_Day (by revenue)\n",
      "# ------------------------------\n",
      "+-----------+-----------+------------------+\n",
      "|Time_of_Day|hour_of_day|Sales             |\n",
      "+-----------+-----------+------------------+\n",
      "|Afternoon  |16         |9031.840000000024 |\n",
      "|Afternoon  |15         |7476.0200000000195|\n",
      "|Afternoon  |12         |7419.620000000012 |\n",
      "|Afternoon  |14         |7173.8000000000175|\n",
      "|Afternoon  |13         |7028.760000000013 |\n",
      "|Morning    |10         |10198.519999999991|\n",
      "|Morning    |11         |8453.100000000008 |\n",
      "|Morning    |9          |7264.280000000005 |\n",
      "|Morning    |8          |7017.880000000007 |\n",
      "|Morning    |7          |2846.020000000003 |\n",
      "|Morning    |6          |149.4             |\n",
      "|Night      |19         |7751.9600000000155|\n",
      "|Night      |17         |7659.760000000013 |\n",
      "|Night      |18         |7162.600000000018 |\n",
      "|Night      |21         |6397.940000000017 |\n",
      "|Night      |20         |5578.9200000000155|\n",
      "|Night      |22         |3635.160000000008 |\n",
      "+-----------+-----------+------------------+\n",
      "\n"
     ]
    }
   ],
   "source": [
    "# ------------------------------\n",
    "# Popularity combos & peak hours per Time_of_Day\n",
    "# ------------------------------\n",
    "print(\"# ------------------------------\")\n",
    "print(\"# 13. Most popular coffee by Time_of_Day (count)\")\n",
    "print(\"# ------------------------------\")\n",
    "df.groupBy(\"Time_of_Day\", \"coffee_name\") \\\n",
    "  .agg(F.count(\"*\").alias(\"Orders\")) \\\n",
    "  .orderBy(\"Time_of_Day\", F.desc(\"Orders\")).show(100, truncate=False)\n",
    "\n",
    "print(\"\\n# ------------------------------\")\n",
    "print(\"# 14. Peak hour for each Time_of_Day (by revenue)\")\n",
    "print(\"# ------------------------------\")\n",
    "df.groupBy(\"Time_of_Day\", \"hour_of_day\") \\\n",
    "  .agg(F.sum(\"money\").alias(\"Sales\")) \\\n",
    "  .orderBy(\"Time_of_Day\",F.desc(\"Sales\")).show(20, truncate=False)\n"
   ]
  },
  {
   "cell_type": "code",
   "execution_count": 45,
   "id": "553fe0a5-ccfb-4e5b-a3c7-8e0ab03ffa44",
   "metadata": {},
   "outputs": [
    {
     "name": "stdout",
     "output_type": "stream",
     "text": [
      "\n",
      "# ------------------------------\n",
      "# 16. Top 5 revenue-generating dates\n",
      "# ------------------------------\n",
      "+----------+-----------------+\n",
      "|Date      |Total_Sales      |\n",
      "+----------+-----------------+\n",
      "|2024-10-11|836.6599999999999|\n",
      "|2025-02-03|795.9999999999999|\n",
      "|2025-02-05|760.24           |\n",
      "|2025-03-03|737.7199999999999|\n",
      "|2024-10-17|726.4599999999999|\n",
      "+----------+-----------------+\n",
      "only showing top 5 rows\n"
     ]
    }
   ],
   "source": [
    "# ------------------------------\n",
    "#  top revenue dates\n",
    "# ------------------------------\n",
    "\n",
    "print(\"\\n# ------------------------------\")\n",
    "print(\"# 16. Top 5 revenue-generating dates\")\n",
    "print(\"# ------------------------------\")\n",
    "df.groupBy(\"Date\").agg(F.sum(\"money\").alias(\"Total_Sales\")) \\\n",
    "  .orderBy(F.desc(\"Total_Sales\")).show(5, truncate=False)\n"
   ]
  },
  {
   "cell_type": "code",
   "execution_count": 46,
   "id": "878e26f7-15f1-4d56-b933-43c242899c49",
   "metadata": {},
   "outputs": [
    {
     "name": "stdout",
     "output_type": "stream",
     "text": [
      "# ------------------------------\n",
      "# 17. Aggregation summary: Weekday x Time_of_Day\n",
      "# ------------------------------\n",
      "+-------+-----------+-----------+------------------+------------+------------------+\n",
      "|Weekday|Time_of_Day|Weekdaysort|Total_Sales       |Total_Orders|Avg_Order_Value   |\n",
      "+-------+-----------+-----------+------------------+------------+------------------+\n",
      "|Mon    |Afternoon  |1          |5664.100000000017 |177         |32.00056497175151 |\n",
      "|Mon    |Morning    |1          |5987.340000000008 |193         |31.02248704663217 |\n",
      "|Mon    |Night      |1          |5711.660000000013 |174         |32.82563218390812 |\n",
      "|Tue    |Afternoon  |2          |5012.080000000011 |160         |31.32550000000007 |\n",
      "|Tue    |Morning    |2          |6343.920000000008 |207         |30.64695652173917 |\n",
      "|Tue    |Night      |2          |6812.38000000002  |205         |33.23112195121961 |\n",
      "|Wed    |Afternoon  |3          |5147.760000000013 |165         |31.198545454545535|\n",
      "|Wed    |Morning    |3          |5071.32000000001  |165         |30.735272727272786|\n",
      "|Wed    |Night      |3          |5531.380000000014 |170         |32.53752941176479 |\n",
      "|Thu    |Afternoon  |4          |5203.58000000001  |169         |30.79041420118349 |\n",
      "|Thu    |Morning    |4          |4419.320000000008 |146         |30.269315068493206|\n",
      "|Thu    |Night      |4          |6468.500000000018 |195         |33.171794871794965|\n",
      "|Fri    |Afternoon  |5          |5504.900000000014 |172         |32.00523255813962 |\n",
      "|Fri    |Morning    |5          |5839.360000000007 |193         |30.255751295336825|\n",
      "|Fri    |Night      |5          |5458.400000000015 |167         |32.685029940119854|\n",
      "|Sat    |Afternoon  |6          |6307.300000000013 |194         |32.51185567010316 |\n",
      "|Sat    |Morning    |6          |4570.620000000007 |157         |29.112229299363104|\n",
      "|Sat    |Night      |6          |3855.6000000000067|119         |32.400000000000055|\n",
      "|Sun    |Afternoon  |7          |5290.3200000000115|168         |31.49000000000007 |\n",
      "|Sun    |Morning    |7          |3697.320000000007 |120         |30.811000000000057|\n",
      "|Sun    |Night      |7          |4348.420000000009 |131         |33.19404580152679 |\n",
      "+-------+-----------+-----------+------------------+------------+------------------+\n",
      "\n"
     ]
    }
   ],
   "source": [
    "# ------------------------------\n",
    "#  Aggregation table: Weekday x Time_of_Day\n",
    "# ------------------------------\n",
    "print(\"# ------------------------------\")\n",
    "print(\"# 17. Aggregation summary: Weekday x Time_of_Day\")\n",
    "print(\"# ------------------------------\")\n",
    "wk_time = df.groupBy(\"Weekday\", \"Time_of_Day\", \"Weekdaysort\").agg(\n",
    "    F.sum(\"money\").alias(\"Total_Sales\"),\n",
    "    F.count(\"*\").alias(\"Total_Orders\"),\n",
    "    avg(\"money\").alias(\"Avg_Order_Value\")\n",
    ").orderBy(\"Weekdaysort\", \"Time_of_Day\")\n",
    "\n",
    "wk_time.show(200, truncate=False)\n"
   ]
  },
  {
   "cell_type": "code",
   "execution_count": 47,
   "id": "8039d91f-38fa-443e-871b-1f6a12c94c44",
   "metadata": {},
   "outputs": [
    {
     "name": "stdout",
     "output_type": "stream",
     "text": [
      "# ------------------------------\n",
      "# 20. Simple Linear Regression: predict 'money' using hour_of_day & Weekdaysort\n",
      "# ------------------------------\n",
      "Coefficients: [0.21683445946810442,-0.047101601942334335]\n",
      "Intercept: 28.68592078697855\n",
      "\n",
      "Model metrics on test set:\n",
      "  RMSE: 4.6716\n",
      "  R2: 0.0588\n"
     ]
    }
   ],
   "source": [
    "# ------------------------------\n",
    "#  Simple Predictive Model (Linear Regression with PySpark)\n",
    "# ------------------------------\n",
    "from pyspark.ml.feature import VectorAssembler\n",
    "from pyspark.ml.regression import LinearRegression\n",
    "\n",
    "print(\"# ------------------------------\")\n",
    "print(\"# 20. Simple Linear Regression: predict 'money' using hour_of_day & Weekdaysort\")\n",
    "print(\"# ------------------------------\")\n",
    "\n",
    "model_df = df.select(\"money\", \"hour_of_day\", \"Weekdaysort\").na.drop()\n",
    "assembler = VectorAssembler(inputCols=[\"hour_of_day\", \"Weekdaysort\"], outputCol=\"features\")\n",
    "model_input = assembler.transform(model_df).select(col(\"features\"), col(\"money\").alias(\"label\"))\n",
    "\n",
    "train, test = model_input.randomSplit([0.8, 0.2], seed=42)\n",
    "lr = LinearRegression(featuresCol=\"features\", labelCol=\"label\")\n",
    "lr_model = lr.fit(train)\n",
    "\n",
    "print(\"Coefficients:\", lr_model.coefficients)\n",
    "print(\"Intercept:\", lr_model.intercept)\n",
    "\n",
    "test_summary = lr_model.evaluate(test)\n",
    "print(\"\\nModel metrics on test set:\")\n",
    "print(f\"  RMSE: {test_summary.rootMeanSquaredError:.4f}\")\n",
    "print(f\"  R2: {test_summary.r2:.4f}\")\n"
   ]
  },
  {
   "cell_type": "code",
   "execution_count": 48,
   "id": "29ad7124-5cbb-4ca3-92e4-cf5fe5874a83",
   "metadata": {},
   "outputs": [
    {
     "name": "stdout",
     "output_type": "stream",
     "text": [
      "Requirement already satisfied: pip in c:\\users\\vashnavi\\appdata\\local\\programs\\python\\python311\\lib\\site-packages (25.2)\n"
     ]
    }
   ],
   "source": [
    "!python -m pip install --upgrade pip\n"
   ]
  },
  {
   "cell_type": "code",
   "execution_count": 49,
   "id": "cada9ac1-79d4-4bcc-84f8-cb5a552a1345",
   "metadata": {},
   "outputs": [
    {
     "name": "stdout",
     "output_type": "stream",
     "text": [
      "Requirement already satisfied: pandas in c:\\users\\vashnavi\\appdata\\local\\programs\\python\\python311\\lib\\site-packages (2.3.3)\n",
      "Requirement already satisfied: numpy>=1.23.2 in c:\\users\\vashnavi\\appdata\\local\\programs\\python\\python311\\lib\\site-packages (from pandas) (2.3.3)\n",
      "Requirement already satisfied: python-dateutil>=2.8.2 in c:\\users\\vashnavi\\appdata\\local\\programs\\python\\python311\\lib\\site-packages (from pandas) (2.9.0.post0)\n",
      "Requirement already satisfied: pytz>=2020.1 in c:\\users\\vashnavi\\appdata\\local\\programs\\python\\python311\\lib\\site-packages (from pandas) (2025.2)\n",
      "Requirement already satisfied: tzdata>=2022.7 in c:\\users\\vashnavi\\appdata\\local\\programs\\python\\python311\\lib\\site-packages (from pandas) (2025.2)\n",
      "Requirement already satisfied: six>=1.5 in c:\\users\\vashnavi\\appdata\\local\\programs\\python\\python311\\lib\\site-packages (from python-dateutil>=2.8.2->pandas) (1.17.0)\n"
     ]
    }
   ],
   "source": [
    "!pip install pandas\n"
   ]
  },
  {
   "cell_type": "code",
   "execution_count": 50,
   "id": "244ce5e5-283c-4cc0-8f7c-7c2bf2a66f94",
   "metadata": {},
   "outputs": [],
   "source": [
    "# ------------------------------\n",
    "# Cell 14 - Prepare pandas data for plotting\n",
    "# ------------------------------\n",
    "# Convert required aggregations to pandas for plotting\n",
    "pdf = df.toPandas()\n",
    "\n",
    "coffee_sales = pdf.groupby('coffee_name')['money'].sum().sort_values(ascending=False)\n",
    "hour_sales = pdf.groupby('hour_of_day')['money'].sum().reindex(range(0,24), fill_value=0)\n",
    "payment_counts = pdf['cash_type'].value_counts()\n",
    "# Weekday order using Weekdaysort if present\n",
    "try:\n",
    "    weekday_order = pdf[['Weekday','Weekdaysort']].drop_duplicates().sort_values('Weekdaysort')['Weekday'].tolist()\n",
    "    weekday_sales = pdf.groupby('Weekday')['money'].sum().reindex(weekday_order)\n",
    "except Exception:\n",
    "    weekday_sales = pdf.groupby('Weekday')['money'].sum()\n"
   ]
  },
  {
   "cell_type": "code",
   "execution_count": 51,
   "id": "60c4c757-2981-472c-a8fb-7d97acff5c7a",
   "metadata": {},
   "outputs": [
    {
     "name": "stdout",
     "output_type": "stream",
     "text": [
      "Requirement already satisfied: matplotlib in c:\\users\\vashnavi\\appdata\\roaming\\python\\python311\\site-packages (3.10.6)\n",
      "Requirement already satisfied: contourpy>=1.0.1 in c:\\users\\vashnavi\\appdata\\roaming\\python\\python311\\site-packages (from matplotlib) (1.3.3)\n",
      "Requirement already satisfied: cycler>=0.10 in c:\\users\\vashnavi\\appdata\\roaming\\python\\python311\\site-packages (from matplotlib) (0.12.1)\n",
      "Requirement already satisfied: fonttools>=4.22.0 in c:\\users\\vashnavi\\appdata\\roaming\\python\\python311\\site-packages (from matplotlib) (4.60.1)\n",
      "Requirement already satisfied: kiwisolver>=1.3.1 in c:\\users\\vashnavi\\appdata\\roaming\\python\\python311\\site-packages (from matplotlib) (1.4.9)\n",
      "Requirement already satisfied: numpy>=1.23 in c:\\users\\vashnavi\\appdata\\local\\programs\\python\\python311\\lib\\site-packages (from matplotlib) (2.3.3)\n",
      "Requirement already satisfied: packaging>=20.0 in c:\\users\\vashnavi\\appdata\\local\\programs\\python\\python311\\lib\\site-packages (from matplotlib) (25.0)\n",
      "Requirement already satisfied: pillow>=8 in c:\\users\\vashnavi\\appdata\\roaming\\python\\python311\\site-packages (from matplotlib) (11.3.0)\n",
      "Requirement already satisfied: pyparsing>=2.3.1 in c:\\users\\vashnavi\\appdata\\roaming\\python\\python311\\site-packages (from matplotlib) (3.2.5)\n",
      "Requirement already satisfied: python-dateutil>=2.7 in c:\\users\\vashnavi\\appdata\\local\\programs\\python\\python311\\lib\\site-packages (from matplotlib) (2.9.0.post0)\n",
      "Requirement already satisfied: six>=1.5 in c:\\users\\vashnavi\\appdata\\local\\programs\\python\\python311\\lib\\site-packages (from python-dateutil>=2.7->matplotlib) (1.17.0)\n"
     ]
    }
   ],
   "source": [
    "!pip install matplotlib --user\n"
   ]
  },
  {
   "cell_type": "code",
   "execution_count": 52,
   "id": "99469304-8d0b-472d-9ff2-84de83872732",
   "metadata": {},
   "outputs": [
    {
     "name": "stdout",
     "output_type": "stream",
     "text": [
      "Requirement already satisfied: matplotlib in c:\\users\\vashnavi\\appdata\\roaming\\python\\python311\\site-packages (3.10.6)\n",
      "Requirement already satisfied: contourpy>=1.0.1 in c:\\users\\vashnavi\\appdata\\roaming\\python\\python311\\site-packages (from matplotlib) (1.3.3)\n",
      "Requirement already satisfied: cycler>=0.10 in c:\\users\\vashnavi\\appdata\\roaming\\python\\python311\\site-packages (from matplotlib) (0.12.1)\n",
      "Requirement already satisfied: fonttools>=4.22.0 in c:\\users\\vashnavi\\appdata\\roaming\\python\\python311\\site-packages (from matplotlib) (4.60.1)\n",
      "Requirement already satisfied: kiwisolver>=1.3.1 in c:\\users\\vashnavi\\appdata\\roaming\\python\\python311\\site-packages (from matplotlib) (1.4.9)\n",
      "Requirement already satisfied: numpy>=1.23 in c:\\users\\vashnavi\\appdata\\local\\programs\\python\\python311\\lib\\site-packages (from matplotlib) (2.3.3)\n",
      "Requirement already satisfied: packaging>=20.0 in c:\\users\\vashnavi\\appdata\\local\\programs\\python\\python311\\lib\\site-packages (from matplotlib) (25.0)\n",
      "Requirement already satisfied: pillow>=8 in c:\\users\\vashnavi\\appdata\\roaming\\python\\python311\\site-packages (from matplotlib) (11.3.0)\n",
      "Requirement already satisfied: pyparsing>=2.3.1 in c:\\users\\vashnavi\\appdata\\roaming\\python\\python311\\site-packages (from matplotlib) (3.2.5)\n",
      "Requirement already satisfied: python-dateutil>=2.7 in c:\\users\\vashnavi\\appdata\\local\\programs\\python\\python311\\lib\\site-packages (from matplotlib) (2.9.0.post0)\n",
      "Requirement already satisfied: six>=1.5 in c:\\users\\vashnavi\\appdata\\local\\programs\\python\\python311\\lib\\site-packages (from python-dateutil>=2.7->matplotlib) (1.17.0)\n"
     ]
    }
   ],
   "source": [
    "import sys\n",
    "!{sys.executable} -m pip install matplotlib\n"
   ]
  },
  {
   "cell_type": "code",
   "execution_count": 53,
   "id": "cdae4ce6-7d6c-475a-88cd-c76d3c1c2658",
   "metadata": {},
   "outputs": [],
   "source": [
    "import matplotlib.pyplot as plt\n"
   ]
  },
  {
   "cell_type": "code",
   "execution_count": 54,
   "id": "0b37fab3-f1c6-469f-bee1-289f7f339335",
   "metadata": {},
   "outputs": [],
   "source": [
    "# ------------------------------\n",
    "#  Prepare pandas data for plotting\n",
    "# ------------------------------\n",
    "# Convert required aggregations to pandas for plotting\n",
    "pdf = df.toPandas()\n",
    "\n",
    "coffee_sales = pdf.groupby('coffee_name')['money'].sum().sort_values(ascending=False)\n",
    "hour_sales = pdf.groupby('hour_of_day')['money'].sum().reindex(range(0,24), fill_value=0)\n",
    "payment_counts = pdf['cash_type'].value_counts()\n",
    "# Weekday order using Weekdaysort if present\n",
    "try:\n",
    "    weekday_order = pdf[['Weekday','Weekdaysort']].drop_duplicates().sort_values('Weekdaysort')['Weekday'].tolist()\n",
    "    weekday_sales = pdf.groupby('Weekday')['money'].sum().reindex(weekday_order)\n",
    "except Exception:\n",
    "    weekday_sales = pdf.groupby('Weekday')['money'].sum()\n"
   ]
  },
  {
   "cell_type": "code",
   "execution_count": 55,
   "id": "c706c2c6-b190-401b-b341-787ff6cacb0e",
   "metadata": {},
   "outputs": [
    {
     "data": {
      "image/png": "[encoded data removed]",
      "text/plain": [
       "<Figure size 1200x600 with 1 Axes>"
      ]
     },
     "metadata": {},
     "output_type": "display_data"
    }
   ],
   "source": [
    "# ------------------------------\n",
    "#  Plot : Bar - Total Sales by Coffee Type\n",
    "# ------------------------------\n",
    "plt.figure(figsize=(12,6))\n",
    "coffee_sales.plot(kind='bar')\n",
    "plt.title(\"Total Sales by Coffee Type\")\n",
    "plt.xlabel(\"Coffee Type\")\n",
    "plt.ylabel(\"Sales (money)\")\n",
    "plt.xticks(rotation=45, ha='right')\n",
    "plt.tight_layout()\n",
    "plt.show()\n"
   ]
  },
  {
   "cell_type": "code",
   "execution_count": 56,
   "id": "600b5ec7-c251-4944-89cb-00a8a005e3d5",
   "metadata": {},
   "outputs": [
    {
     "data": {
      "image/png": "[encoded data removed]",
      "text/plain": [
       "<Figure size 1000x500 with 1 Axes>"
      ]
     },
     "metadata": {},
     "output_type": "display_data"
    }
   ],
   "source": [
    "# ------------------------------\n",
    "# Plot : Line - Hourly Sales Trend\n",
    "# ------------------------------\n",
    "plt.figure(figsize=(10,5))\n",
    "plt.plot(hour_sales.index, hour_sales.values, marker='o')\n",
    "plt.title(\"Hourly Sales Trend\")\n",
    "plt.xlabel(\"Hour of Day\")\n",
    "plt.xticks(range(0,24))\n",
    "plt.ylabel(\"Sales (money)\")\n",
    "plt.grid(True)\n",
    "plt.tight_layout()\n",
    "plt.show()\n"
   ]
  },
  {
   "cell_type": "code",
   "execution_count": 57,
   "id": "fa9afd64-1d24-45c5-988b-092ac7931494",
   "metadata": {},
   "outputs": [
    {
     "data": {
      "image/png": "[encoded data removed]",
      "text/plain": [
       "<Figure size 800x500 with 1 Axes>"
      ]
     },
     "metadata": {},
     "output_type": "display_data"
    }
   ],
   "source": [
    "# ------------------------------\n",
    "# Plot : Barh - Sales by Weekday\n",
    "# ------------------------------\n",
    "plt.figure(figsize=(8,5))\n",
    "weekday_sales.plot(kind='barh')\n",
    "plt.title(\"Sales by Weekday\")\n",
    "plt.xlabel(\"Sales (money)\")\n",
    "plt.ylabel(\"Weekday\")\n",
    "plt.tight_layout()\n",
    "plt.show()\n"
   ]
  },
  {
   "cell_type": "code",
   "execution_count": 58,
   "id": "b3632312-1b84-4204-8bcb-f46a302e3ff1",
   "metadata": {},
   "outputs": [
    {
     "data": {
      "image/png": "[encoded data removed]",
      "text/plain": [
       "<Figure size 1400x800 with 2 Axes>"
      ]
     },
     "metadata": {},
     "output_type": "display_data"
    }
   ],
   "source": [
    "# ------------------------------\n",
    "#  Heatmap (Hour vs Coffee Type) \n",
    "# ------------------------------\n",
    "pivot = pdf.pivot_table(index='hour_of_day', columns='coffee_name', values='money', aggfunc='sum', fill_value=0)\n",
    "pivot = pivot.sort_index()\n",
    "plt.figure(figsize=(14,8))\n",
    "plt.imshow(pivot.values, aspect='auto', interpolation='nearest')\n",
    "plt.colorbar(label='Sales (money)')\n",
    "plt.yticks(range(len(pivot.index)), pivot.index)\n",
    "plt.xticks(range(len(pivot.columns)), pivot.columns, rotation=90)\n",
    "plt.title(\"Heatmap: Hour of Day vs Coffee Type (total sales)\")\n",
    "plt.tight_layout()\n",
    "plt.show()\n"
   ]
  },
  {
   "cell_type": "code",
   "execution_count": 59,
   "id": "6aa10d60-d8d2-411f-b019-6abdb21560ba",
   "metadata": {},
   "outputs": [
    {
     "name": "stdout",
     "output_type": "stream",
     "text": [
      "\n",
      "===== Insights Summary =====\n",
      "Total transactions: 3547\n",
      "Total revenue: 112245.58\n",
      "Average order value: 31.65\n",
      "\n",
      "Top selling coffees (by revenue):\n",
      "coffee_name\n",
      "Latte                  26875.30\n",
      "Americano with Milk    24751.12\n",
      "Cappuccino             17439.14\n",
      "Americano              14650.26\n",
      "Hot Chocolate           9933.46\n",
      "\n",
      "Peak sales hours (top 5):\n",
      "hour_of_day\n",
      "10    10198.52\n",
      "16     9031.84\n",
      "11     8453.10\n",
      "19     7751.96\n",
      "17     7659.76\n",
      "\n",
      "Top payment methods by usage:\n",
      "cash_type\n",
      "card    3547\n",
      "\n",
      "Model summary (simple LR predicting money from hour_of_day & weekday):\n",
      "  Test R2: 0.0588, RMSE: 4.6716\n",
      "\n",
      "Recommendations:\n",
      " - Run promotions during peak hours to increase average basket size.\n",
      " - Introduce bundle offers on top-selling coffees.\n",
      " - Explore payment promotions for payment types that show higher average spend.\n"
     ]
    }
   ],
   "source": [
    "# ------------------------------\n",
    "#  Final Insights & Recommendations \n",
    "# ------------------------------\n",
    "print(\"\\n===== Insights Summary =====\")\n",
    "print(f\"Total transactions: {total_tx}\")\n",
    "print(f\"Total revenue: {total_revenue:.2f}\")\n",
    "print(f\"Average order value: {avg_spend:.2f}\\n\")\n",
    "\n",
    "print(\"Top selling coffees (by revenue):\")\n",
    "print(coffee_sales.head(5).to_string())\n",
    "\n",
    "print(\"\\nPeak sales hours (top 5):\")\n",
    "print(hour_sales.sort_values(ascending=False).head(5).to_string())\n",
    "\n",
    "print(\"\\nTop payment methods by usage:\")\n",
    "print(payment_counts.to_string())\n",
    "\n",
    "print(\"\\nModel summary (simple LR predicting money from hour_of_day & weekday):\")\n",
    "print(f\"  Test R2: {test_summary.r2:.4f}, RMSE: {test_summary.rootMeanSquaredError:.4f}\\n\")\n",
    "\n",
    "print(\"Recommendations:\")\n",
    "print(\" - Run promotions during peak hours to increase average basket size.\")\n",
    "print(\" - Introduce bundle offers on top-selling coffees.\")\n",
    "print(\" - Explore payment promotions for payment types that show higher average spend.\")\n"
   ]
  },
  {
   "cell_type": "code",
   "execution_count": null,
   "id": "9e79e372-4174-481e-a8d1-d0afaefb1344",
   "metadata": {},
   "outputs": [],
   "source": []
  },
  {
   "cell_type": "code",
   "execution_count": null,
   "id": "38356ec7-a7c0-4581-b6b9-04bf2648b7ed",
   "metadata": {},
   "outputs": [],
   "source": []
  }
 ],
 "metadata": {
  "kernelspec": {
   "display_name": "Python 3 (ipykernel)",
   "language": "python",
   "name": "python3"
  },
  "language_info": {
   "codemirror_mode": {
    "name": "ipython",
    "version": 3
   },
   "file_extension": ".py",
   "mimetype": "text/x-python",
   "name": "python",
   "nbconvert_exporter": "python",
   "pygments_lexer": "ipython3",
   "version": "3.11.0"
  }
 },
 "nbformat": 4,
 "nbformat_minor": 5
}
