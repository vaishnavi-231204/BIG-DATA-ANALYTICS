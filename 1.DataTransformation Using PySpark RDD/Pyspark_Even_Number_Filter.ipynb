{
 "cells": [
  {
   "cell_type": "code",
   "execution_count": 1,
   "id": "9d5f7165-8d75-474f-ab22-a5ccb2ddddb2",
   "metadata": {},
   "outputs": [
    {
     "data": {
      "text/html": [
       "\n",
       "        <div>\n",
       "            <p><b>SparkContext</b></p>\n",
       "\n",
       "            <p><a href=\"http://Sathvik:4040\">Spark UI</a></p>\n",
       "\n",
       "            <dl>\n",
       "              <dt>Version</dt>\n",
       "                <dd><code>v4.0.0</code></dd>\n",
       "              <dt>Master</dt>\n",
       "                <dd><code>local[*]</code></dd>\n",
       "              <dt>AppName</dt>\n",
       "                <dd><code>PySparkShell</code></dd>\n",
       "            </dl>\n",
       "        </div>\n",
       "        "
      ],
      "text/plain": [
       "<SparkContext master=local[*] appName=PySparkShell>"
      ]
     },
     "execution_count": 1,
     "metadata": {},
     "output_type": "execute_result"
    }
   ],
   "source": [
    "sc"
   ]
  },
  {
   "cell_type": "markdown",
   "id": "54d988dd-ca93-45bf-b867-46e6fc822865",
   "metadata": {},
   "source": [
    "### Perform simple data transformation like filtering even numbers from a given list using PySpark RDD"
   ]
  },
  {
   "cell_type": "code",
   "execution_count": 2,
   "id": "8faedbfa-1aac-4a69-8d18-8b0e55db60ad",
   "metadata": {},
   "outputs": [],
   "source": [
    "# from pyspark import SparkContext\n",
    "import random\n",
    "\n",
    "# Step 1: Initialize SparkContext\n",
    "# sc = SparkContext(\"local\", \"EvenNumberFilter\")"
   ]
  },
  {
   "cell_type": "code",
   "execution_count": 3,
   "id": "87344efa-e900-4b5e-97b3-3f3db810728b",
   "metadata": {},
   "outputs": [
    {
     "name": "stdout",
     "output_type": "stream",
     "text": [
      "Original List:\n",
      "[430, 488, 2, 354, 144, 91, 150, 757, 226, 505, 642, 392, 982, 971, 996, 756, 481, 98, 557, 82, 548, 37, 827, 640, 609, 408, 668, 448, 533, 886, 559, 758, 553, 134, 989, 275, 189, 378, 250, 48, 814, 59, 487, 606, 513, 539, 910, 541, 364, 529, 590, 249, 123, 614, 940, 389, 23, 498, 580, 960, 396, 152, 820, 672, 485, 836, 740, 866, 998, 591, 557, 754, 926, 999, 54, 370, 52, 370, 87, 141, 675, 644, 855, 219, 643, 973, 169, 287, 15, 318, 825, 178, 774, 827, 463, 138, 320, 357, 992, 466]\n"
     ]
    }
   ],
   "source": [
    "# Step 2: Generate 100 random integers between 1 and 1000\n",
    "random_numbers = [random.randint(1, 1000) for _ in range(100)]\n",
    "\n",
    "print(\"Original List:\")\n",
    "print(random_numbers)"
   ]
  },
  {
   "cell_type": "code",
   "execution_count": 4,
   "id": "f6f88243-922e-46a4-9dcb-a049fd956894",
   "metadata": {},
   "outputs": [],
   "source": [
    "# Step 3: Parallelize the list into an RDD\n",
    "numbers_rdd = sc.parallelize(random_numbers)"
   ]
  },
  {
   "cell_type": "code",
   "execution_count": 5,
   "id": "4dd545f0-520c-4396-a624-b33ccb2e57ee",
   "metadata": {},
   "outputs": [],
   "source": [
    "# Step 4: Filter only even numbers\n",
    "even_numbers_rdd = numbers_rdd.filter(lambda x: x % 2 == 0)"
   ]
  },
  {
   "cell_type": "code",
   "execution_count": 6,
   "id": "341e2d62-9b16-4db1-92e3-10956599937c",
   "metadata": {},
   "outputs": [
    {
     "name": "stdout",
     "output_type": "stream",
     "text": [
      "\n",
      "Even Numbers:\n",
      "[430, 488, 2, 354, 144, 150, 226, 642, 392, 982, 996, 756, 98, 82, 548, 640, 408, 668, 448, 886, 758, 134, 378, 250, 48, 814, 606, 910, 364, 590, 614, 940, 498, 580, 960, 396, 152, 820, 672, 836, 740, 866, 998, 754, 926, 54, 370, 52, 370, 644, 318, 178, 774, 138, 320, 992, 466]\n"
     ]
    }
   ],
   "source": [
    "# Step 5: Collect results\n",
    "even_numbers = even_numbers_rdd.collect()\n",
    "\n",
    "print(\"\\nEven Numbers:\")\n",
    "print(even_numbers)"
   ]
  },
  {
   "cell_type": "code",
   "execution_count": 7,
   "id": "93f51e33-da19-4ddb-8987-a98caa473ef6",
   "metadata": {},
   "outputs": [],
   "source": [
    "# Stop SparkContext\n",
    "# sc.stop()"
   ]
  },
  {
   "cell_type": "code",
   "execution_count": null,
   "id": "82efd6ba-d9e1-4f07-82df-512bc5225a77",
   "metadata": {},
   "outputs": [],
   "source": []
  }
 ],
 "metadata": {
  "kernelspec": {
   "display_name": "Python 3 (ipykernel)",
   "language": "python",
   "name": "python3"
  },
  "language_info": {
   "codemirror_mode": {
    "name": "ipython",
    "version": 3
   },
   "file_extension": ".py",
   "mimetype": "text/x-python",
   "name": "python",
   "nbconvert_exporter": "python",
   "pygments_lexer": "ipython3",
   "version": "3.10.0"
  }
 },
 "nbformat": 4,
 "nbformat_minor": 5
}
